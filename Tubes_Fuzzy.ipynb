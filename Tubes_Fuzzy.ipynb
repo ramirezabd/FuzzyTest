{
  "nbformat": 4,
  "nbformat_minor": 0,
  "metadata": {
    "colab": {
      "name": "Tubes Fuzzy",
      "provenance": [],
      "collapsed_sections": [],
      "include_colab_link": true
    },
    "kernelspec": {
      "name": "python3",
      "display_name": "Python 3"
    }
  },
  "cells": [
    {
      "cell_type": "markdown",
      "metadata": {
        "id": "view-in-github",
        "colab_type": "text"
      },
      "source": [
        "<a href=\"https://colab.research.google.com/github/ramirezabd/FuzzyTest/blob/master/Tubes_Fuzzy.ipynb\" target=\"_parent\"><img src=\"https://colab.research.google.com/assets/colab-badge.svg\" alt=\"Open In Colab\"/></a>"
      ]
    },
    {
      "cell_type": "markdown",
      "metadata": {
        "id": "WcqncBL0DPQ-",
        "colab_type": "text"
      },
      "source": [
        "[link text](https://)**[LINK Coding](https://scikit-fuzzy.readthedocs.io/en/latest/auto_examples/plot_tipping_problem.html)**\n",
        "\n",
        "**[LINK CENTROID](https://tutorkeren.com/artikel/defuzzification.htm)**\n",
        "\n",
        "\n",
        "Input\n",
        "Curah hujan\n",
        "\tlow\n",
        "\tmedium\n",
        "\thigh\n",
        "durasi\n",
        "\tlow\n",
        "\tmedium\n",
        "\thigh\n",
        "debit\n",
        "\tlow\n",
        "\tmedium\n",
        "\thigh\n",
        "\n",
        "\n",
        "output\n",
        "prob\n",
        "\tlow\n",
        "\tmedium\n",
        "\thigh\n",
        "\n",
        "\n",
        "Rule\n",
        "1#Curah low,Durasi low,Debit low,Then Prob low\n",
        "2#Curah low,Durasi low,Debit med,Then Prob low\n",
        "\n",
        "3#Curah low,Durasi low,Debit med,Then Prob med\n",
        "4#Curah med,Durasi med,Debit med,Then Prob med\n",
        "\n",
        "5#Curah med,Durasi high,Debit high,Then Prob high\n",
        "6#Curah high,Durasi high,Debit high,Then Prob high"
      ]
    },
    {
      "cell_type": "code",
      "metadata": {
        "id": "1yJ-ZnvNk2m_",
        "colab_type": "code",
        "outputId": "c1bda7d3-3995-49c3-b1fb-b3d06d03f880",
        "colab": {
          "base_uri": "https://localhost:8080/",
          "height": 294
        }
      },
      "source": [
        "pip install scikit-fuzzy"
      ],
      "execution_count": 0,
      "outputs": [
        {
          "output_type": "stream",
          "text": [
            "Collecting scikit-fuzzy\n",
            "\u001b[?25l  Downloading https://files.pythonhosted.org/packages/6c/f0/5eb5dbe0fd8dfe7d4651a8f4e591a196623a22b9e5339101e559695b4f6c/scikit-fuzzy-0.4.2.tar.gz (993kB)\n",
            "\r\u001b[K     |▎                               | 10kB 18.1MB/s eta 0:00:01\r\u001b[K     |▋                               | 20kB 6.3MB/s eta 0:00:01\r\u001b[K     |█                               | 30kB 8.7MB/s eta 0:00:01\r\u001b[K     |█▎                              | 40kB 5.6MB/s eta 0:00:01\r\u001b[K     |█▋                              | 51kB 6.7MB/s eta 0:00:01\r\u001b[K     |██                              | 61kB 7.9MB/s eta 0:00:01\r\u001b[K     |██▎                             | 71kB 9.0MB/s eta 0:00:01\r\u001b[K     |██▋                             | 81kB 10.0MB/s eta 0:00:01\r\u001b[K     |███                             | 92kB 11.1MB/s eta 0:00:01\r\u001b[K     |███▎                            | 102kB 8.8MB/s eta 0:00:01\r\u001b[K     |███▋                            | 112kB 8.8MB/s eta 0:00:01\r\u001b[K     |████                            | 122kB 8.8MB/s eta 0:00:01\r\u001b[K     |████▎                           | 133kB 8.8MB/s eta 0:00:01\r\u001b[K     |████▋                           | 143kB 8.8MB/s eta 0:00:01\r\u001b[K     |█████                           | 153kB 8.8MB/s eta 0:00:01\r\u001b[K     |█████▎                          | 163kB 8.8MB/s eta 0:00:01\r\u001b[K     |█████▋                          | 174kB 8.8MB/s eta 0:00:01\r\u001b[K     |██████                          | 184kB 8.8MB/s eta 0:00:01\r\u001b[K     |██████▎                         | 194kB 8.8MB/s eta 0:00:01\r\u001b[K     |██████▋                         | 204kB 8.8MB/s eta 0:00:01\r\u001b[K     |███████                         | 215kB 8.8MB/s eta 0:00:01\r\u001b[K     |███████▎                        | 225kB 8.8MB/s eta 0:00:01\r\u001b[K     |███████▋                        | 235kB 8.8MB/s eta 0:00:01\r\u001b[K     |████████                        | 245kB 8.8MB/s eta 0:00:01\r\u001b[K     |████████▎                       | 256kB 8.8MB/s eta 0:00:01\r\u001b[K     |████████▋                       | 266kB 8.8MB/s eta 0:00:01\r\u001b[K     |█████████                       | 276kB 8.8MB/s eta 0:00:01\r\u001b[K     |█████████▎                      | 286kB 8.8MB/s eta 0:00:01\r\u001b[K     |█████████▋                      | 296kB 8.8MB/s eta 0:00:01\r\u001b[K     |██████████                      | 307kB 8.8MB/s eta 0:00:01\r\u001b[K     |██████████▏                     | 317kB 8.8MB/s eta 0:00:01\r\u001b[K     |██████████▌                     | 327kB 8.8MB/s eta 0:00:01\r\u001b[K     |██████████▉                     | 337kB 8.8MB/s eta 0:00:01\r\u001b[K     |███████████▏                    | 348kB 8.8MB/s eta 0:00:01\r\u001b[K     |███████████▌                    | 358kB 8.8MB/s eta 0:00:01\r\u001b[K     |███████████▉                    | 368kB 8.8MB/s eta 0:00:01\r\u001b[K     |████████████▏                   | 378kB 8.8MB/s eta 0:00:01\r\u001b[K     |████████████▌                   | 389kB 8.8MB/s eta 0:00:01\r\u001b[K     |████████████▉                   | 399kB 8.8MB/s eta 0:00:01\r\u001b[K     |█████████████▏                  | 409kB 8.8MB/s eta 0:00:01\r\u001b[K     |█████████████▌                  | 419kB 8.8MB/s eta 0:00:01\r\u001b[K     |█████████████▉                  | 430kB 8.8MB/s eta 0:00:01\r\u001b[K     |██████████████▏                 | 440kB 8.8MB/s eta 0:00:01\r\u001b[K     |██████████████▌                 | 450kB 8.8MB/s eta 0:00:01\r\u001b[K     |██████████████▉                 | 460kB 8.8MB/s eta 0:00:01\r\u001b[K     |███████████████▏                | 471kB 8.8MB/s eta 0:00:01\r\u001b[K     |███████████████▌                | 481kB 8.8MB/s eta 0:00:01\r\u001b[K     |███████████████▉                | 491kB 8.8MB/s eta 0:00:01\r\u001b[K     |████████████████▏               | 501kB 8.8MB/s eta 0:00:01\r\u001b[K     |████████████████▌               | 512kB 8.8MB/s eta 0:00:01\r\u001b[K     |████████████████▉               | 522kB 8.8MB/s eta 0:00:01\r\u001b[K     |█████████████████▏              | 532kB 8.8MB/s eta 0:00:01\r\u001b[K     |█████████████████▌              | 542kB 8.8MB/s eta 0:00:01\r\u001b[K     |█████████████████▉              | 552kB 8.8MB/s eta 0:00:01\r\u001b[K     |██████████████████▏             | 563kB 8.8MB/s eta 0:00:01\r\u001b[K     |██████████████████▌             | 573kB 8.8MB/s eta 0:00:01\r\u001b[K     |██████████████████▉             | 583kB 8.8MB/s eta 0:00:01\r\u001b[K     |███████████████████▏            | 593kB 8.8MB/s eta 0:00:01\r\u001b[K     |███████████████████▌            | 604kB 8.8MB/s eta 0:00:01\r\u001b[K     |███████████████████▉            | 614kB 8.8MB/s eta 0:00:01\r\u001b[K     |████████████████████            | 624kB 8.8MB/s eta 0:00:01\r\u001b[K     |████████████████████▍           | 634kB 8.8MB/s eta 0:00:01\r\u001b[K     |████████████████████▊           | 645kB 8.8MB/s eta 0:00:01\r\u001b[K     |█████████████████████           | 655kB 8.8MB/s eta 0:00:01\r\u001b[K     |█████████████████████▍          | 665kB 8.8MB/s eta 0:00:01\r\u001b[K     |█████████████████████▊          | 675kB 8.8MB/s eta 0:00:01\r\u001b[K     |██████████████████████          | 686kB 8.8MB/s eta 0:00:01\r\u001b[K     |██████████████████████▍         | 696kB 8.8MB/s eta 0:00:01\r\u001b[K     |██████████████████████▊         | 706kB 8.8MB/s eta 0:00:01\r\u001b[K     |███████████████████████         | 716kB 8.8MB/s eta 0:00:01\r\u001b[K     |███████████████████████▍        | 727kB 8.8MB/s eta 0:00:01\r\u001b[K     |███████████████████████▊        | 737kB 8.8MB/s eta 0:00:01\r\u001b[K     |████████████████████████        | 747kB 8.8MB/s eta 0:00:01\r\u001b[K     |████████████████████████▍       | 757kB 8.8MB/s eta 0:00:01\r\u001b[K     |████████████████████████▊       | 768kB 8.8MB/s eta 0:00:01\r\u001b[K     |█████████████████████████       | 778kB 8.8MB/s eta 0:00:01\r\u001b[K     |█████████████████████████▍      | 788kB 8.8MB/s eta 0:00:01\r\u001b[K     |█████████████████████████▊      | 798kB 8.8MB/s eta 0:00:01\r\u001b[K     |██████████████████████████      | 808kB 8.8MB/s eta 0:00:01\r\u001b[K     |██████████████████████████▍     | 819kB 8.8MB/s eta 0:00:01\r\u001b[K     |██████████████████████████▊     | 829kB 8.8MB/s eta 0:00:01\r\u001b[K     |███████████████████████████     | 839kB 8.8MB/s eta 0:00:01\r\u001b[K     |███████████████████████████▍    | 849kB 8.8MB/s eta 0:00:01\r\u001b[K     |███████████████████████████▊    | 860kB 8.8MB/s eta 0:00:01\r\u001b[K     |████████████████████████████    | 870kB 8.8MB/s eta 0:00:01\r\u001b[K     |████████████████████████████▍   | 880kB 8.8MB/s eta 0:00:01\r\u001b[K     |████████████████████████████▊   | 890kB 8.8MB/s eta 0:00:01\r\u001b[K     |█████████████████████████████   | 901kB 8.8MB/s eta 0:00:01\r\u001b[K     |█████████████████████████████▍  | 911kB 8.8MB/s eta 0:00:01\r\u001b[K     |█████████████████████████████▊  | 921kB 8.8MB/s eta 0:00:01\r\u001b[K     |██████████████████████████████  | 931kB 8.8MB/s eta 0:00:01\r\u001b[K     |██████████████████████████████▎ | 942kB 8.8MB/s eta 0:00:01\r\u001b[K     |██████████████████████████████▋ | 952kB 8.8MB/s eta 0:00:01\r\u001b[K     |███████████████████████████████ | 962kB 8.8MB/s eta 0:00:01\r\u001b[K     |███████████████████████████████▎| 972kB 8.8MB/s eta 0:00:01\r\u001b[K     |███████████████████████████████▋| 983kB 8.8MB/s eta 0:00:01\r\u001b[K     |████████████████████████████████| 993kB 8.8MB/s eta 0:00:01\r\u001b[K     |████████████████████████████████| 1.0MB 8.8MB/s \n",
            "\u001b[?25hRequirement already satisfied: numpy>=1.6.0 in /usr/local/lib/python3.6/dist-packages (from scikit-fuzzy) (1.17.4)\n",
            "Requirement already satisfied: scipy>=0.9.0 in /usr/local/lib/python3.6/dist-packages (from scikit-fuzzy) (1.3.3)\n",
            "Requirement already satisfied: networkx>=1.9.0 in /usr/local/lib/python3.6/dist-packages (from scikit-fuzzy) (2.4)\n",
            "Requirement already satisfied: decorator>=4.3.0 in /usr/local/lib/python3.6/dist-packages (from networkx>=1.9.0->scikit-fuzzy) (4.4.1)\n",
            "Building wheels for collected packages: scikit-fuzzy\n",
            "  Building wheel for scikit-fuzzy (setup.py) ... \u001b[?25l\u001b[?25hdone\n",
            "  Created wheel for scikit-fuzzy: filename=scikit_fuzzy-0.4.2-cp36-none-any.whl size=894069 sha256=7eff3a8dbc3003ca7d4bf2856b6e78eeeece53c035531397d34cd504e61df753\n",
            "  Stored in directory: /root/.cache/pip/wheels/b9/4e/77/da79b16f64ef1738d95486e2731eea09d73e90a72465096600\n",
            "Successfully built scikit-fuzzy\n",
            "Installing collected packages: scikit-fuzzy\n",
            "Successfully installed scikit-fuzzy-0.4.2\n"
          ],
          "name": "stdout"
        }
      ]
    },
    {
      "cell_type": "code",
      "metadata": {
        "id": "RH-S5Hv0j82f",
        "colab_type": "code",
        "colab": {}
      },
      "source": [
        "import numpy as np\n",
        "import skfuzzy as fuzz\n",
        "import matplotlib.pyplot as plt"
      ],
      "execution_count": 0,
      "outputs": []
    },
    {
      "cell_type": "code",
      "metadata": {
        "id": "faZufathlJ14",
        "colab_type": "code",
        "colab": {}
      },
      "source": [
        "x_curah = np.arange(0, 10, 1)\n",
        "x_durasi = np.arange(0, 10, 1)\n",
        "x_debit  = np.arange(0, 10, 1)\n",
        "x_prob  = np.arange(0, 19, 1)"
      ],
      "execution_count": 0,
      "outputs": []
    },
    {
      "cell_type": "code",
      "metadata": {
        "id": "sTYJg05blVS4",
        "colab_type": "code",
        "colab": {}
      },
      "source": [
        "curah_lo = fuzz.trimf(x_curah, [0, 0, 3])\n",
        "curah_md = fuzz.trimf(x_curah, [0, 3, 6])\n",
        "curah_hi = fuzz.trimf(x_curah, [3, 6, 9])\n",
        "durasi_lo = fuzz.trimf(x_durasi, [0, 0, 3])\n",
        "durasi_md = fuzz.trimf(x_durasi, [0, 3, 6])\n",
        "durasi_hi = fuzz.trimf(x_durasi, [3, 6, 9])\n",
        "debit_lo = fuzz.trimf(x_debit, [0, 0, 3])\n",
        "debit_md = fuzz.trimf(x_debit, [0, 3, 6])\n",
        "debit_hi = fuzz.trimf(x_debit, [3, 6, 9])\n",
        "prob_lo = fuzz.trimf(x_prob, [0, 0, 6])\n",
        "prob_md = fuzz.trimf(x_prob, [0, 6, 12])\n",
        "prob_hi = fuzz.trimf(x_prob, [6, 12, 18])"
      ],
      "execution_count": 0,
      "outputs": []
    },
    {
      "cell_type": "code",
      "metadata": {
        "id": "_Gcl-Y1znSbL",
        "colab_type": "code",
        "colab": {}
      },
      "source": [
        "# We need the activation of our fuzzy membership functions at these values.\n",
        "# The exact values 6.5 and 9.8 do not exist on our universes...\n",
        "# This is what fuzz.interp_membership exists for!\n",
        "curah_level_lo = fuzz.interp_membership(x_curah, curah_lo, 3.5)\n",
        "curah_level_md = fuzz.interp_membership(x_curah, curah_md, 3.5)\n",
        "curah_level_hi = fuzz.interp_membership(x_curah, curah_hi, 3.5)\n",
        "\n",
        "durasi_level_lo = fuzz.interp_membership(x_durasi, durasi_lo, 6.0)\n",
        "durasi_level_md = fuzz.interp_membership(x_durasi, durasi_md, 6.0)\n",
        "durasi_level_hi = fuzz.interp_membership(x_durasi, durasi_hi, 6.0)\n",
        "\n",
        "debit_level_lo = fuzz.interp_membership(x_debit, debit_lo, 6.0)\n",
        "debit_level_md = fuzz.interp_membership(x_debit, debit_md, 6.0)\n",
        "debit_level_hi = fuzz.interp_membership(x_debit, debit_hi, 6.0)\n",
        "\n",
        "\n",
        "curah_durasi_lo12 = np.fmax(curah_level_lo, durasi_level_lo)\n",
        "active_rule1 = np.fmax(curah_durasi_lo12, debit_level_lo)\n",
        "active_rule2 = np.fmax(curah_durasi_lo12, debit_level_md)\n",
        "prob_activation_lo1 = np.fmin(active_rule1, prob_lo)\n",
        "prob_activation_lo2 = np.fmin(active_rule2, prob_lo)\n",
        "\n",
        "\n",
        "curah_durasi_md34 = np.fmax(curah_level_md, durasi_level_md)\n",
        "active_rule3 = np.fmax(curah_durasi_md34, debit_level_md)\n",
        "active_rule4 = np.fmax(curah_durasi_md34, debit_level_hi)\n",
        "prob_activation_md3 = np.fmin(active_rule3, prob_md)\n",
        "prob_activation_md4 = np.fmin(active_rule4, prob_md)\n",
        "\n",
        "\n",
        "curah_durasi_hi56 = np.fmax(curah_level_hi, durasi_level_hi)\n",
        "active_rule5 = np.fmax(curah_durasi_hi56, debit_level_md)\n",
        "active_rule6 = np.fmax(curah_durasi_hi56, debit_level_hi)\n",
        "prob_activation_hi5 = np.fmin(active_rule5, prob_hi)\n",
        "prob_activation_hi6 = np.fmin(active_rule6, prob_hi)\n",
        "\n",
        "prob0 = np.zeros_like(x_prob)\n"
      ],
      "execution_count": 0,
      "outputs": []
    },
    {
      "cell_type": "code",
      "metadata": {
        "id": "OPo0KikfoW7V",
        "colab_type": "code",
        "outputId": "78db0a78-8e53-4d4d-a125-f71cae657559",
        "colab": {
          "base_uri": "https://localhost:8080/",
          "height": 369
        }
      },
      "source": [
        "# Aggregate all three output membership functions together\n",
        "\n",
        "prob_md34 = np.fmax(prob_activation_md3, prob_activation_md4)\n",
        "prob_hi56 = np.fmax(prob_activation_hi5, prob_activation_hi6)\n",
        "aggregated = np.fmax(prob_activation_lo1, prob_activation_lo2,\n",
        "                     np.fmax(prob_md34, prob_hi56))\n",
        "\n",
        "# Calculate defuzzified result\n",
        "prob = fuzz.defuzz(x_prob, aggregated, 'lom')\n",
        "prob_activation = fuzz.interp_membership(x_prob, aggregated, prob)  # for plot\n",
        "\n",
        "# Visualize this\n",
        "fig, ax0 = plt.subplots(figsize=(10, 5))\n",
        "\n",
        "ax0.plot(x_prob, prob_lo, 'b', linewidth=1, linestyle='--', )\n",
        "ax0.plot(x_prob, prob_md, 'g', linewidth=1, linestyle='--')\n",
        "ax0.plot(x_prob, prob_hi, 'r', linewidth=1, linestyle='--')\n",
        "ax0.fill_between(x_prob, prob0, aggregated, facecolor='Orange', alpha=0.7)\n",
        "ax0.plot([prob, prob], [0, prob_activation], 'k', linewidth=2.5, alpha=0.9)\n",
        "ax0.set_title('Aggregated membership and result (line)')\n",
        "\n",
        "# Turn off top/right axes\n",
        "for ax in (ax0,):\n",
        "    ax.spines['top'].set_visible(False)\n",
        "    ax.spines['right'].set_visible(False)\n",
        "    ax.get_xaxis().tick_bottom()\n",
        "    ax.get_yaxis().tick_left()\n",
        "\n",
        "plt.tight_layout()\n"
      ],
      "execution_count": 0,
      "outputs": [
        {
          "output_type": "display_data",
          "data": {
            "image/png": "[encoded data removed]",
            "text/plain": [
              "<Figure size 720x360 with 1 Axes>"
            ]
          },
          "metadata": {
            "tags": []
          }
        }
      ]
    },
    {
      "cell_type": "code",
      "metadata": {
        "id": "Drk51FDwuvhu",
        "colab_type": "code",
        "outputId": "c24700cb-d51e-4343-987f-6e43a338c63c",
        "colab": {
          "base_uri": "https://localhost:8080/",
          "height": 35
        }
      },
      "source": [
        "prob"
      ],
      "execution_count": 0,
      "outputs": [
        {
          "output_type": "execute_result",
          "data": {
            "text/plain": [
              "18"
            ]
          },
          "metadata": {
            "tags": []
          },
          "execution_count": 7
        }
      ]
    },
    {
      "cell_type": "code",
      "metadata": {
        "id": "CQEwRnx4iCnB",
        "colab_type": "code",
        "outputId": "25567acd-0f4b-4b35-c118-14b999bcd758",
        "colab": {
          "base_uri": "https://localhost:8080/",
          "height": 35
        }
      },
      "source": [
        "prob_activation"
      ],
      "execution_count": 0,
      "outputs": [
        {
          "output_type": "execute_result",
          "data": {
            "text/plain": [
              "0.0"
            ]
          },
          "metadata": {
            "tags": []
          },
          "execution_count": 8
        }
      ]
    }
  ]
}